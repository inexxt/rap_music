{
 "cells": [
  {
   "cell_type": "code",
   "execution_count": 2,
   "metadata": {
    "collapsed": false
   },
   "outputs": [],
   "source": [
    "from bs4 import BeautifulSoup as bs\n",
    "import requests\n",
    "# import html2text\n",
    "from pprint import pprint\n",
    "import json\n",
    "import urllib.request\n",
    "import re\n",
    "import os\n",
    "from tqdm import tqdm"
   ]
  },
  {
   "cell_type": "code",
   "execution_count": 40,
   "metadata": {
    "collapsed": true
   },
   "outputs": [],
   "source": [
    "GENIUS_LINK = \"http://genius.com\"\n",
    "API_LINK = \"http://api.genius.com/\"\n",
    "client_access_token = \"vJuRYtZOmqJwepQq0mAH5fqaxO3Yw9hM0b9wzguKf40yLii05QLVjTwC4o50XH4G\"\n",
    "DATASET_PATH = \"/home/jack/datasets/polish_rap/\"\n",
    "POPULARITY_OFFSET = 5"
   ]
  },
  {
   "cell_type": "code",
   "execution_count": 4,
   "metadata": {
    "collapsed": false
   },
   "outputs": [],
   "source": [
    "def get_songs(artist_id):\n",
    "    try_on = True #checks if there are still some songs left\n",
    "    artist_id = str(artist_id)\n",
    "    pagination = 0\n",
    "    paths = []\n",
    "    while try_on:\n",
    "        try_on = False\n",
    "        pagination += 1\n",
    "        rq = urllib.request.Request(\"http://api.genius.com/artists/\" + artist_id + \\\n",
    "                                    \"/songs?per_page=50&page=\" + str(pagination))\n",
    "        rq.add_header(\"Authorization\", \"Bearer \" + client_access_token)\n",
    "        rq.add_header(\"User-Agent\", \\\n",
    "                      \"curl/7.9.8 (i686-pc-linux-gnu) libcurl 7.9.8 (OpenSSL 0.9.6b) (ipv6 enabled)\")\n",
    "        try:\n",
    "            resp = urllib.request.urlopen(rq)\n",
    "            r = json.loads(resp.read().decode(\"utf-8\"))\n",
    "        except:\n",
    "            print(\"Rapper is not in database: \" + artist_id)\n",
    "            return []\n",
    "        for k in r[\"response\"][\"songs\"]:\n",
    "            paths.append(k[\"path\"])\n",
    "            try_on = True\n",
    "    return paths"
   ]
  },
  {
   "cell_type": "code",
   "execution_count": 5,
   "metadata": {
    "collapsed": false
   },
   "outputs": [],
   "source": [
    "def get_song_text(song_path):\n",
    "    data = requests.get(GENIUS_LINK+song_path).text\n",
    "    \n",
    "    soup = bs(data, \"lxml\")\n",
    "    for div in soup.findAll(\"div\", attrs={\"class\":\"song_body-lyrics\"}):\n",
    "        return div.text"
   ]
  },
  {
   "cell_type": "code",
   "execution_count": 6,
   "metadata": {
    "collapsed": true
   },
   "outputs": [],
   "source": [
    "def get_artist_id(artist_name):\n",
    "    data = requests.get(GENIUS_LINK+\"/artists/\"+artist_name).text\n",
    "    \n",
    "    soup = bs(data, \"lxml\")\n",
    "    for a in soup.findAll(\"a\", attrs={\"class\": \"toggle_follow\"}):\n",
    "        return a.attrs[\"href\"].split(\"/\")[2]"
   ]
  },
  {
   "cell_type": "code",
   "execution_count": 7,
   "metadata": {
    "collapsed": false
   },
   "outputs": [],
   "source": [
    "def get_all_songs(names):\n",
    "    all_songs_path = DATASET_PATH + \"songs_by_artist.json\"\n",
    "    rappers_ids_path = DATASET_PATH + \"rappers_ids.json\"\n",
    "    if os.path.exists(all_songs_path):\n",
    "        with open(all_songs_path, \"r\") as f:\n",
    "            all_songs = json.load(f)\n",
    "        with open(rappers_ids_path, \"r\") as f:\n",
    "            rappers_ids = json.load(f)\n",
    "    else:\n",
    "        all_songs = {}\n",
    "        rappers_ids = {}\n",
    "        for rapper_name in tqdm(names):\n",
    "            rapper_id = get_artist_id(rapper_name)\n",
    "            rappers_ids[rapper_name] = rapper_id\n",
    "            songs = get_songs(rapper_id)\n",
    "            all_songs[rapper_name] = songs\n",
    "            with open(all_songs_path, \"w\") as f:\n",
    "                json.dump(all_songs, f)\n",
    "            with open(rappers_ids_path, \"w\") as f:\n",
    "                json.dump(rappers_ids, f)\n",
    "    \n",
    "    return all_songs, rappers_ids"
   ]
  },
  {
   "cell_type": "code",
   "execution_count": 8,
   "metadata": {
    "collapsed": true
   },
   "outputs": [],
   "source": [
    "def get_polish_rappers_names():\n",
    "    href = \"/Rap-genius-polska-lista-raperow-ktorzy-ukonczyli-hot-16-challenge-lyrics\"\n",
    "    polish_list = get_song_text(href)\n",
    "    polish_list = polish_list.split(\"\\n\")\n",
    "    polish_list = list(filter(lambda rp: 15 > len(rp) > 3, polish_list))\n",
    "    polish_list = list(map(lambda rp: re.sub(\" \", \"-\", rp), polish_list))\n",
    "    return polish_list"
   ]
  },
  {
   "cell_type": "code",
   "execution_count": 9,
   "metadata": {
    "collapsed": true
   },
   "outputs": [
    {
     "name": "stdout",
     "output_type": "stream",
     "text": [
      "['2sty', 'Abel', 'Abradab', 'Ad.M.a', 'AdoDe', 'Adey', 'AfektKlan', 'Alan-T', 'Arach', 'Arow', 'Astek', 'B.A.D', 'BeJotKa', 'Beteo', 'Bezczeelny', 'Bezczel', 'Biak', 'Białas', 'Biara', 'Blejk', 'Blemia', 'Bob-One', 'Bonez', 'Bonson', 'Borixon', 'Braddu', 'Brazy', 'Brewka', 'Brzos', 'Brylas', 'Buka', 'Bezczeelny', 'Cezefiasz', 'C.H.T', 'Chevy', 'Chaos', 'Cimur', 'Czeski', 'Czoug', 'Cywil', 'D.Y.H.A', 'Danny', 'Daro5000', 'Dedoen', 'Defson', 'Dejan', 'Derk', 'Deska', 'Deys', 'Diox', 'Diset', 'DJ-BRK', 'DJ-Johny', 'DJ-Kebs', 'DJ-Klasyk', 'DJ-Krug', 'DJ-Pete', 'DJ-Tuniziano', 'DJ-Twister', 'Długi', 'Długson', 'Dohtor-Miód', 'Dondi', 'Drzewo', 'Duchu', 'Dzielny', 'Dżejpa', 'Edas', 'Eldo', 'Eljot', 'Ematei-Duch', 'Emil-G', 'Emilozo', 'Eminem', 'Emir-Soutyzzi', 'Eripe', 'Eskaubei', 'Fazi', 'Feelhip', 'Filipek', 'Flint', 'Flojd', 'Fokus', 'FonoPe', 'Fotoz-Muz', 'Franek', 'Gabla', 'Galop', 'Gedz', 'Głośny', 'Golin', 'Gonix', 'Gorbas', 'Gorzki', 'Gospel', 'Got-Barss', 'Graba', 'Graf', 'Green', 'Green-Grenade', 'Gres', 'Grubson', 'Guova', 'Guzior', 'Hade', 'Hades', 'Hary', 'Hawaj', 'Hryta', 'HuczuHucz', 'Igrekzet', 'Inespe', 'Iwan', 'Iwona-Michalak', 'Jakób', 'Jan-Wyga', 'JankesPM', 'JanuszJanero', 'Jarecki', 'Jarru', 'Jasiek-MBH', 'Jay-Dryja', 'Jeżozwierz', 'Jędras', 'Jimson', 'Jodsen', 'JojoBRW', 'Joteste', 'Kadoen', 'KaeN', 'Kaiteu', 'Kajman', 'Kala', 'Kamel', 'Kari', 'Karian', 'Karma', 'Kartky', 'Kasina', 'Kasza', 'Kaszalot', 'Kato', 'KęKę', 'Kidman', 'Klasiik', 'Klasik', 'Klawisz', 'Klemens', 'Kleszcz', 'Klusek', 'Kłaku-Kłak', 'Kłodzian', 'Knes', 'Kobra', 'Kogut', 'Kojot', 'Koldi', 'Komil', 'Kopek', 'Kord', 'Korek', 'Kordas', 'Kosi', 'Kotzi', 'Kozer', 'Krajnik', 'Kret', 'Krycha', 'KrzyKrzysztof', 'Krzyśko-Wariat', 'Kuba-Knap', 'Kubinho', 'Kubiszew', 'Kwezi-Kimosi', 'Laikike1', 'Lajon-PGL', 'Lanek', 'Leff', 'Leon-Leonidas', 'Lilu', 'Liroy', 'Lisu', 'LJ-Karwel', 'L.U.C', 'Luku', 'Łabędź', 'Łańduch', 'Łona', 'Łysonżi', 'Made', 'Maestro', 'Majkel', 'Majki.39', 'Małolat', 'Małpa', 'Mank-Hoody', 'Martyn-ESM', 'Matek', 'Mateusz-Natali', 'Matini', 'Matis', 'Mazik', 'Mejson', 'Ment', 'Mielzky', 'Mikey-Kim', 'Miklak', 'Minix', 'Mizer', 'Miziak', 'Młody', 'Młody-Zgred', 'Mona', 'Mops', 'Mosad', 'Mroku', 'Muflon', 'Neile', 'Nerwus', 'Noon', 'Numer-Raz', 'Ńemy', 'O.S.T.R', 'Oldas', 'Onar', 'Orson', 'Orzeu', 'Oset', 'Oskar', 'Oskier', 'Oxon', 'Pablo-Novacci', 'Paluch', 'Parzel', 'Patyk', 'Pączek', 'PeeRZet', 'PeeWuu', 'Peja', 'Pejot', 'Pejter', 'Pelson', 'Penx', 'Perry', 'Peti', 'Peus', 'PiKej', 'Planet-ANM', 'Pogz', 'Pono', 'Poszwixxx', 'Primore-Cru', 'Proceente', 'Procek', 'Profeat', 'Prvski', 'Prys', 'Pszem-Pomorski', 'Pueblos', 'Qciek', 'Quebonafide', 'R.A.U', 'Rado-Radosny', 'Rahim', 'RakRaczej', 'Rebel', 'Rekon', 'Rena', 'Reno', 'Revo', 'Riczi', 'Riko76', 'Robak', 'Rover', 'Rufijok', 'Rufin-MC', 'Ryfa-Ri', 'Rymek', 'Rynio', 'Rzubish', 'Samar', 'Santar', 'Sarius', 'Sensi', 'Setka', 'Shin', 'Shot', 'Sitek', 'Skajsdelimit', 'Sklero-Repo', 'Skorek', 'Skorup', 'Slim-Szczegi', 'Smarki', 'Smołson', 'Smok', 'Snapi', 'Sobota', 'Solar', 'Somal', 'Spinache', 'Stachursky', 'Starszy', 'Stasiak', 'Suchy', 'Supran', 'Sw-Premiera', 'Szaman', 'Szary', 'Szczub', 'Szejk-Biforjuz', 'SZerSZeń', 'Szewc', 'Szokaz', 'Szprancyl', 'Sztoss', 'Szyderca', 'Szyna', 'Ściema', 'Świnia', 'Tabak', 'Tafel-JTS', 'TaLLib', 'Tazz', 'Te-Tris', 'Tede', 'Tekillaz', 'Ten-Typ-Mes', 'Tewus', 'Theodor', 'TMK-Piekielny', 'TomB', 'Tomson', 'Tony-Jazzu', 'TrooM', 'Trzysześć', 'Tukan', 'Ubece', 'Vixen', 'Wankz', 'Warszawski', 'WdoWA', 'W.E.N.A', 'Wicher', 'Wiciu', 'Wilku-WDZ', 'Wini', 'Włodi', 'Wojtas', 'Wolwo', 'Wonz', 'Wrotas', 'Wujek-Samo-Zło', 'WuTeHa', 'Wuwunio', 'WuZet', 'Wyga', 'Yarkee', 'Ymcyk', 'Zadek', 'Zaginiony', 'Zales', 'ZaRaz', 'Z.B.U.K.U', 'Zelo', 'Zeus', 'Zgrywus', 'Zioło', 'Zkibwoy', 'Zorak', 'Żulo.LF', 'Żurek', 'Żyt-Toster', 'Żyto']\n"
     ]
    }
   ],
   "source": [
    "polish_list = get_polish_rappers_names()\n",
    "# print(polish_list)"
   ]
  },
  {
   "cell_type": "code",
   "execution_count": 10,
   "metadata": {
    "collapsed": false,
    "scrolled": true
   },
   "outputs": [],
   "source": [
    "def clean_text(s):\n",
    "    s = re.sub(r'\\[.*\\]', '', s)\n",
    "    s = re.sub(r'[\\n]+', '\\n', s)\n",
    "    return s[s.find('Lyrics')+len(\"Lyrics \"):]"
   ]
  },
  {
   "cell_type": "code",
   "execution_count": 11,
   "metadata": {
    "collapsed": false,
    "scrolled": true
   },
   "outputs": [],
   "source": [
    "all_songs, rappers_ids = get_all_songs(polish_list)"
   ]
  },
  {
   "cell_type": "code",
   "execution_count": 26,
   "metadata": {
    "collapsed": false
   },
   "outputs": [],
   "source": [
    "empty_rappers = list(filter(lambda k: not all_songs[k], polish_list))\n",
    "non_polish_rappers = [\"Eminem\", \"Bonez\", \"Derk\", \"Kidman\", \"Kord\", \\\n",
    "                      \"Kordas\", \"Made\", \"Maestro\", \"Mikey-Kim\", \"Mona\", \"Oldas\", \"Perry\", \"Peti\", \"Shin\", \"Tazz\", \"Mikey\"]\n",
    "non_rappers = list(filter(lambda k: \"DJ\" in k, polish_list))\n",
    "non_rappers.append(\"DJ\")"
   ]
  },
  {
   "cell_type": "code",
   "execution_count": 47,
   "metadata": {
    "collapsed": false
   },
   "outputs": [],
   "source": [
    "good_polish_rappers = set(polish_list)\n",
    "not_good_rappers = set()\n",
    "not_good_rappers |= set(empty_rappers)\n",
    "not_good_rappers |= set(non_polish_rappers)\n",
    "not_good_rappers |= set(non_rappers)\n",
    "good_polish_rappers -= not_good_rappers"
   ]
  },
  {
   "cell_type": "code",
   "execution_count": 50,
   "metadata": {
    "collapsed": false
   },
   "outputs": [
    {
     "data": {
      "text/plain": [
       "{'Ad.M.a',\n",
       " 'AfektKlan',\n",
       " 'B.A.D',\n",
       " 'Biara',\n",
       " 'Blemia',\n",
       " 'Bonez',\n",
       " 'Brazy',\n",
       " 'Brewka',\n",
       " 'Brylas',\n",
       " 'C.H.T',\n",
       " 'Cezefiasz',\n",
       " 'Cimur',\n",
       " 'D.Y.H.A',\n",
       " 'DJ',\n",
       " 'DJ-BRK',\n",
       " 'DJ-Johny',\n",
       " 'DJ-Kebs',\n",
       " 'DJ-Klasyk',\n",
       " 'DJ-Krug',\n",
       " 'DJ-Pete',\n",
       " 'DJ-Tuniziano',\n",
       " 'DJ-Twister',\n",
       " 'Defson',\n",
       " 'Derk',\n",
       " 'Deska',\n",
       " 'Dohtor-Miód',\n",
       " 'Drzewo',\n",
       " 'Dzielny',\n",
       " 'Długson',\n",
       " 'Edas',\n",
       " 'Ematei-Duch',\n",
       " 'Emilozo',\n",
       " 'Eminem',\n",
       " 'Emir-Soutyzzi',\n",
       " 'Gabla',\n",
       " 'Galop',\n",
       " 'Gorbas',\n",
       " 'Gorzki',\n",
       " 'Iwona-Michalak',\n",
       " 'Jakób',\n",
       " 'Jan-Wyga',\n",
       " 'JanuszJanero',\n",
       " 'Jarru',\n",
       " 'JojoBRW',\n",
       " 'Jędras',\n",
       " 'Kasina',\n",
       " 'Kidman',\n",
       " 'Klawisz',\n",
       " 'Klusek',\n",
       " 'Kogut',\n",
       " 'Kord',\n",
       " 'Kordas',\n",
       " 'Krajnik',\n",
       " 'Krzyśko-Wariat',\n",
       " 'Kwezi-Kimosi',\n",
       " 'Kłaku-Kłak',\n",
       " 'L.U.C',\n",
       " 'Leon-Leonidas',\n",
       " 'Made',\n",
       " 'Maestro',\n",
       " 'Mank-Hoody',\n",
       " 'Matini',\n",
       " 'Mazik',\n",
       " 'Mielzky',\n",
       " 'Mikey',\n",
       " 'Mikey-Kim',\n",
       " 'Mona',\n",
       " 'Mops',\n",
       " 'O.S.T.R',\n",
       " 'Oldas',\n",
       " 'PeeWuu',\n",
       " 'Perry',\n",
       " 'Peti',\n",
       " 'Procek',\n",
       " 'Pszem-Pomorski',\n",
       " 'R.A.U',\n",
       " 'Rekon',\n",
       " 'Riczi',\n",
       " 'Riko76',\n",
       " 'Rufin-MC',\n",
       " 'Rzubish',\n",
       " 'Samar',\n",
       " 'Santar',\n",
       " 'Shin',\n",
       " 'Sklero-Repo',\n",
       " 'Smarki',\n",
       " 'Smołson',\n",
       " 'Snapi',\n",
       " 'Sw-Premiera',\n",
       " 'Szaman',\n",
       " 'Szewc',\n",
       " 'Szokaz',\n",
       " 'TMK-Piekielny',\n",
       " 'Tabak',\n",
       " 'Tazz',\n",
       " 'Tekillaz',\n",
       " 'Tewus',\n",
       " 'Ubece',\n",
       " 'W.E.N.A',\n",
       " 'Wilku-WDZ',\n",
       " 'Wolwo',\n",
       " 'Wonz',\n",
       " 'WuTeHa',\n",
       " 'Wujek-Samo-Zło',\n",
       " 'Yarkee',\n",
       " 'Z.B.U.K.U',\n",
       " 'Zadek',\n",
       " 'Zales',\n",
       " 'Łańduch',\n",
       " 'Żulo.LF'}"
      ]
     },
     "execution_count": 50,
     "metadata": {},
     "output_type": "execute_result"
    }
   ],
   "source": [
    "not_good_rappers"
   ]
  },
  {
   "cell_type": "code",
   "execution_count": 34,
   "metadata": {
    "collapsed": false
   },
   "outputs": [],
   "source": [
    "def dump_songs(rapper_name, force=False):\n",
    "    rapper_path = DATASET_PATH + \"all_lyrics/\" + rapper_name\n",
    "    if not os.path.exists(rapper_path) or force: \n",
    "        os.mkdir(rapper_path)\n",
    "        for song in all_songs[rapper_name]:\n",
    "            lyrics = get_song_text(song)\n",
    "            song = song.split(\"/\")[1]\n",
    "            lyrics_plus_meta = {}\n",
    "            lyrics_plus_meta[\"lyrics\"] = clean_text(lyrics)\n",
    "            with open(rapper_path + \"/\" + song, \"w\") as f:\n",
    "                json.dump(lyrics_plus_meta, f)"
   ]
  },
  {
   "cell_type": "code",
   "execution_count": 30,
   "metadata": {
    "collapsed": true
   },
   "outputs": [],
   "source": [
    "def dump_all_lyrics(rappers_names):\n",
    "    for rapper in tqdm(rappers_names):\n",
    "        dump_songs(rapper)"
   ]
  },
  {
   "cell_type": "code",
   "execution_count": 35,
   "metadata": {
    "collapsed": false,
    "scrolled": true
   },
   "outputs": [
    {
     "name": "stderr",
     "output_type": "stream",
     "text": []
    }
   ],
   "source": [
    "dump_all_lyrics(good_polish_rappers)"
   ]
  },
  {
   "cell_type": "code",
   "execution_count": 36,
   "metadata": {
    "collapsed": false
   },
   "outputs": [],
   "source": [
    "from langdetect import detect\n",
    "import shutil"
   ]
  },
  {
   "cell_type": "code",
   "execution_count": 37,
   "metadata": {
    "collapsed": true
   },
   "outputs": [],
   "source": [
    "def optionally_create(artist_name):\n",
    "    if not os.path.exists(DATASET_PATH + \"ok_lyrics/\" + artist_name):\n",
    "        os.mkdir(DATASET_PATH + \"ok_lyrics/\" + artist_name)"
   ]
  },
  {
   "cell_type": "code",
   "execution_count": 38,
   "metadata": {
    "collapsed": true
   },
   "outputs": [],
   "source": [
    "def clean_data():\n",
    "    #clean rappers names and languages\n",
    "    optionally_create(\"\")\n",
    "    rappers = os.listdir(DATASET_PATH + \"all_lyrics/\")\n",
    "    for rapper in tqdm(rappers):\n",
    "        files = os.listdir(DATASET_PATH + \"all_lyrics/\" + rapper)\n",
    "        for song in files:\n",
    "            song_path = DATASET_PATH + \"all_lyrics/\" + rapper + \"/\" + song\n",
    "            with open(song_path, \"r\") as f:\n",
    "                song_text = json.load(f)[\"lyrics\"]\n",
    "            try:\n",
    "                lang = detect(song_text)\n",
    "            except:\n",
    "                lang = \"xx\"\n",
    "            if lang != \"pl\" :\n",
    "                #optionally delete them, but for now just leave\n",
    "                #os.remove(song_path)\n",
    "                pass\n",
    "            else:\n",
    "                #clean every dir - move songs that doesnt start with the name of a rapper \n",
    "                #to a new dir and add rapper to list\n",
    "                main_artist = song.split(\"-\")[0]\n",
    "                optionally_create(main_artist)\n",
    "                os.rename(song_path, DATASET_PATH + \"ok_lyrics/\" + main_artist + \"/\" + song)\n",
    "    return"
   ]
  },
  {
   "cell_type": "code",
   "execution_count": 39,
   "metadata": {
    "collapsed": false,
    "scrolled": false
   },
   "outputs": [
    {
     "name": "stderr",
     "output_type": "stream",
     "text": []
    }
   ],
   "source": [
    "clean_data()"
   ]
  },
  {
   "cell_type": "code",
   "execution_count": 52,
   "metadata": {
    "collapsed": false
   },
   "outputs": [],
   "source": [
    "def cut_out_popular(offset=POPULARITY_OFFSET):\n",
    "    rappers = os.listdir(DATASET_PATH + \"ok_lyrics/\")\n",
    "    for rapper in tqdm(rappers):\n",
    "        files = os.listdir(DATASET_PATH + \"ok_lyrics/\" + rapper)\n",
    "        if (len(files) < offset) or (rapper in not_good_rappers):\n",
    "            shutil.rmtree(DATASET_PATH + \"ok_lyrics/\" + rapper)\n",
    "    return"
   ]
  },
  {
   "cell_type": "code",
   "execution_count": 53,
   "metadata": {
    "collapsed": false
   },
   "outputs": [
    {
     "name": "stderr",
     "output_type": "stream",
     "text": []
    }
   ],
   "source": [
    "cut_out_popular()"
   ]
  },
  {
   "cell_type": "code",
   "execution_count": null,
   "metadata": {
    "collapsed": true
   },
   "outputs": [],
   "source": []
  }
 ],
 "metadata": {
  "kernelspec": {
   "display_name": "Python 3",
   "language": "python",
   "name": "python3"
  },
  "language_info": {
   "codemirror_mode": {
    "name": "ipython",
    "version": 3
   },
   "file_extension": ".py",
   "mimetype": "text/x-python",
   "name": "python",
   "nbconvert_exporter": "python",
   "pygments_lexer": "ipython3",
   "version": "3.5.1"
  }
 },
 "nbformat": 4,
 "nbformat_minor": 0
}
