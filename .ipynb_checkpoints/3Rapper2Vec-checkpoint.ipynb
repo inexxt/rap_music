{
 "cells": [
  {
   "cell_type": "markdown",
   "metadata": {},
   "source": [
    "## 3.0 Intro\n",
    "This notebook is about employing Doc2vec algorithm to create rappers vectors and then try to see if clustering and visualizing \"rappers space\" conforms our intuitions about them."
   ]
  },
  {
   "cell_type": "code",
   "execution_count": 1,
   "metadata": {
    "collapsed": false
   },
   "outputs": [
    {
     "name": "stderr",
     "output_type": "stream",
     "text": [
      "/home/jack/anaconda3/lib/python3.5/site-packages/gensim/utils.py:1015: UserWarning: Pattern library is not installed, lemmatization won't be available.\n",
      "  warnings.warn(\"Pattern library is not installed, lemmatization won't be available.\")\n"
     ]
    }
   ],
   "source": [
    "from gensim import models, corpora, similarities\n",
    "from gensim.models import Doc2Vec\n",
    "from tqdm import tqdm\n",
    "import json\n",
    "import os\n",
    "import re"
   ]
  },
  {
   "cell_type": "markdown",
   "metadata": {},
   "source": [
    "You only need to set the **MAIN_PATH** variable"
   ]
  },
  {
   "cell_type": "code",
   "execution_count": 2,
   "metadata": {
    "collapsed": false
   },
   "outputs": [],
   "source": [
    "MAIN_PATH = \"/home/jack/datasets/polish_rap/\""
   ]
  },
  {
   "cell_type": "code",
   "execution_count": 3,
   "metadata": {
    "collapsed": false
   },
   "outputs": [],
   "source": [
    "RAPPERS_PATH = MAIN_PATH + \"stm_lyrics/\"\n",
    "DOC2VEC_FILES_PATH = MAIN_PATH + \"/d2v_files/\"\n",
    "DOC2VEC_CONFIG_PATH = MAIN_PATH + \"d2v_config/\""
   ]
  },
  {
   "cell_type": "code",
   "execution_count": 4,
   "metadata": {
    "collapsed": false
   },
   "outputs": [],
   "source": [
    "# preprocess files for Doc2Vec\n",
    "# documents are dynamically constructed from rappers' lyrics\n",
    "\n",
    "def preprocess_documents(rappers_list):\n",
    "    if not os.path.exists(DOC2VEC_FILES_PATH): \n",
    "        os.mkdir(DOC2VEC_FILES_PATH)\n",
    "    \n",
    "    for rapper in tqdm(rappers_list):\n",
    "        rapper_allsongs = \"\"\n",
    "        songs = os.listdir(RAPPERS_PATH + rapper)\n",
    "        for song in songs:\n",
    "            with open(RAPPERS_PATH + rapper + \"/\" + song, \"r\") as f:\n",
    "                song_text = json.load(f)\n",
    "            rapper_allsongs += song_text[\"lyrics\"]\n",
    "        re.sub(\"\\s\\n\\s\\n\", \"\\n\", rapper_allsongs) # it doesn't work, i have no idea why!!!\n",
    "        with open(DOC2VEC_FILES_PATH + rapper, \"w\") as f:\n",
    "            f.write(rapper_allsongs)"
   ]
  },
  {
   "cell_type": "code",
   "execution_count": 5,
   "metadata": {
    "collapsed": false
   },
   "outputs": [],
   "source": [
    "def get_populars():\n",
    "    with open(DOC2VEC_CONFIG_PATH + \"popular_rappers.json\", \"r\") as f:\n",
    "        popular_rappers_frame = json.load(f)\n",
    "    return popular_rappers_frame[\"allwords\"].keys()"
   ]
  },
  {
   "cell_type": "code",
   "execution_count": 6,
   "metadata": {
    "collapsed": false
   },
   "outputs": [],
   "source": [
    "import itertools\n",
    "\n",
    "def head(d):\n",
    "    return dict(itertools.islice(d.items(), 10))"
   ]
  },
  {
   "cell_type": "code",
   "execution_count": 7,
   "metadata": {
    "collapsed": false
   },
   "outputs": [],
   "source": [
    "popular_rappers = get_populars()"
   ]
  },
  {
   "cell_type": "code",
   "execution_count": 8,
   "metadata": {
    "collapsed": false
   },
   "outputs": [],
   "source": [
    "popular_rappers = set(popular_rappers)\n",
    "popular_rappers -= set(\"Wbw\")\n",
    "popular_rappers -= set(\"Mickiewicz\")"
   ]
  },
  {
   "cell_type": "code",
   "execution_count": 9,
   "metadata": {
    "collapsed": false
   },
   "outputs": [
    {
     "name": "stderr",
     "output_type": "stream",
     "text": [
      "100%|██████████| 54/54 [00:00<00:00, 108.54it/s]\n"
     ]
    }
   ],
   "source": [
    "preprocess_documents(popular_rappers)"
   ]
  },
  {
   "cell_type": "markdown",
   "metadata": {},
   "source": [
    "### 3.1 Doc2Vec corpus creation\n",
    "from http://radimrehurek.com/gensim/tut1.html"
   ]
  },
  {
   "cell_type": "code",
   "execution_count": 10,
   "metadata": {
    "collapsed": true
   },
   "outputs": [],
   "source": [
    "def get_lyrics_docs():\n",
    "    rappers_list = os.listdir(DOC2VEC_FILES_PATH)\n",
    "    for rapper in rappers_list:\n",
    "        with open(DOC2VEC_FILES_PATH + rapper, \"r\") as f:\n",
    "            lyrics = f.read()\n",
    "        yield lyrics.split()"
   ]
  },
  {
   "cell_type": "code",
   "execution_count": 11,
   "metadata": {
    "collapsed": false
   },
   "outputs": [],
   "source": [
    "dictionary = corpora.Dictionary(get_lyrics_docs())"
   ]
  },
  {
   "cell_type": "code",
   "execution_count": 12,
   "metadata": {
    "collapsed": false
   },
   "outputs": [
    {
     "name": "stdout",
     "output_type": "stream",
     "text": [
      "Dictionary(86926 unique tokens: ['opierdolą', 'pomarańcze', 'radioaktywny', 'cloud', 'fingier']...)\n"
     ]
    }
   ],
   "source": [
    "print(dictionary)"
   ]
  },
  {
   "cell_type": "code",
   "execution_count": 13,
   "metadata": {
    "collapsed": true
   },
   "outputs": [],
   "source": [
    "dictionary.save(DOC2VEC_CONFIG_PATH + \"doc2vec.dict\")"
   ]
  },
  {
   "cell_type": "code",
   "execution_count": 14,
   "metadata": {
    "collapsed": false
   },
   "outputs": [
    {
     "data": {
      "text/plain": [
       "{'cieszył': 47645,\n",
       " 'cloud': 39012,\n",
       " 'diżejki': 7181,\n",
       " 'fingier': 64790,\n",
       " 'nachlani': 44604,\n",
       " 'opierdolą': 60576,\n",
       " 'pomarańcze': 51552,\n",
       " 'radioaktywny': 79086,\n",
       " 'skrojonym': 60579,\n",
       " 'zostańmy': 77633}"
      ]
     },
     "execution_count": 14,
     "metadata": {},
     "output_type": "execute_result"
    }
   ],
   "source": [
    "head(dictionary.token2id)"
   ]
  },
  {
   "cell_type": "code",
   "execution_count": 15,
   "metadata": {
    "collapsed": false
   },
   "outputs": [],
   "source": [
    "def get_corpus():\n",
    "    for t in get_lyrics_docs():\n",
    "        yield dictionary.doc2bow(t)"
   ]
  },
  {
   "cell_type": "code",
   "execution_count": 16,
   "metadata": {
    "collapsed": false
   },
   "outputs": [],
   "source": [
    "corpora.MmCorpus.serialize(DOC2VEC_CONFIG_PATH + \"d2v.mm\" , get_corpus())"
   ]
  },
  {
   "cell_type": "code",
   "execution_count": 17,
   "metadata": {
    "collapsed": false
   },
   "outputs": [],
   "source": [
    "tfidf = models.TfidfModel(get_corpus())"
   ]
  },
  {
   "cell_type": "code",
   "execution_count": 18,
   "metadata": {
    "collapsed": false
   },
   "outputs": [],
   "source": [
    "corpus_tfidf = tfidf[get_corpus()]"
   ]
  },
  {
   "cell_type": "code",
   "execution_count": 19,
   "metadata": {
    "collapsed": false
   },
   "outputs": [],
   "source": [
    "# print(corpus_tfidf[0])"
   ]
  },
  {
   "cell_type": "markdown",
   "metadata": {},
   "source": [
    "## 3.2 (Quite ugly) doc2vec API for creating LabelledSentences"
   ]
  },
  {
   "cell_type": "code",
   "execution_count": 20,
   "metadata": {
    "collapsed": true
   },
   "outputs": [],
   "source": [
    "def flatten(l):\n",
    "    return [subsub for sub in l for subsub in sub]"
   ]
  },
  {
   "cell_type": "code",
   "execution_count": 21,
   "metadata": {
    "collapsed": false
   },
   "outputs": [],
   "source": [
    "rappers_mapping = {}\n",
    "def construct_lyrics_docs(force=False):\n",
    "    if not os.path.exists(DOC2VEC_CONFIG_PATH):\n",
    "        os.makedirs(DOC2VEC_CONFIG_PATH)\n",
    "    \n",
    "    if os.path.exists(DOC2VEC_CONFIG_PATH + \"d2v.docs\"):\n",
    "        if force:\n",
    "            os.remove(DOC2VEC_CONFIG_PATH + \"d2v.docs\")\n",
    "        else:\n",
    "            return\n",
    "    \n",
    "    rappers_list = os.listdir(DOC2VEC_FILES_PATH)\n",
    "    for uid, rapper in enumerate(rappers_list):\n",
    "        with open(DOC2VEC_FILES_PATH + rapper, \"r\") as f:\n",
    "            l = f.read()\n",
    "        lt = \"\".join([word for word in flatten(l.split(\"\\n\"))])\n",
    "        lt += \"\\n\"\n",
    "        with open(DOC2VEC_CONFIG_PATH + \"d2v.docs\", \"a\") as f:\n",
    "            f.write(lt)\n",
    "        rappers_mapping[uid] = rapper"
   ]
  },
  {
   "cell_type": "code",
   "execution_count": 22,
   "metadata": {
    "collapsed": false
   },
   "outputs": [],
   "source": [
    "# sanity check\n",
    "assert(flatten([[1,2], [3,4]]) == [1,2,3,4])"
   ]
  },
  {
   "cell_type": "code",
   "execution_count": 32,
   "metadata": {
    "collapsed": false
   },
   "outputs": [],
   "source": [
    "construct_lyrics_docs()"
   ]
  },
  {
   "cell_type": "code",
   "execution_count": 33,
   "metadata": {
    "collapsed": true
   },
   "outputs": [],
   "source": [
    "class LabeledLineSentence(object):\n",
    "    def __init__(self, filename):\n",
    "        self.filename = filename\n",
    "    def __iter__(self):\n",
    "        for uid, line in enumerate(open(filename)):\n",
    "            yield LabeledSentence(words=line.split(), labels=[\"RAPPER_\"+str(uid)])"
   ]
  },
  {
   "cell_type": "code",
   "execution_count": 34,
   "metadata": {
    "collapsed": false
   },
   "outputs": [],
   "source": [
    "tagged = models.doc2vec.TaggedLineDocument(DOC2VEC_CONFIG_PATH + \"d2v.docs\")"
   ]
  },
  {
   "cell_type": "markdown",
   "metadata": {},
   "source": [
    "## 3.3 Training Doc2vec model"
   ]
  },
  {
   "cell_type": "markdown",
   "metadata": {},
   "source": [
    "Parameters from https://rare-technologies.com/doc2vec-tutorial/"
   ]
  },
  {
   "cell_type": "code",
   "execution_count": 35,
   "metadata": {
    "collapsed": false
   },
   "outputs": [
    {
     "name": "stderr",
     "output_type": "stream",
     "text": [
      "100%|██████████| 10/10 [00:42<00:00,  4.14s/it]\n"
     ]
    }
   ],
   "source": [
    "model = Doc2Vec(size=20, window=8, min_count=1, workers=4, alpha=0.025, min_alpha=0.025)\n",
    "\n",
    "model.build_vocab(tagged)\n",
    "for epoch in tqdm(range(10)):\n",
    "    model.train(tagged)\n",
    "    model.alpha -= 0.002  # decrease the learning rate\n",
    "    model.min_alpha = model.alpha  # fix the learning rate, no decay   \n",
    "#     print(model.docvecs.most_similar(1)[0][0])"
   ]
  },
  {
   "cell_type": "code",
   "execution_count": 36,
   "metadata": {
    "collapsed": true
   },
   "outputs": [],
   "source": [
    "model.save(DOC2VEC_CONFIG_PATH + \"d2v.model\")"
   ]
  },
  {
   "cell_type": "markdown",
   "metadata": {},
   "source": [
    "## 3.4 Exploring rappers space"
   ]
  },
  {
   "cell_type": "code",
   "execution_count": 37,
   "metadata": {
    "collapsed": false
   },
   "outputs": [],
   "source": [
    "def get_lyrics(rapper):\n",
    "    with open(DOC2VEC_FILES_PATH + rapper, \"r\") as f:\n",
    "        return f.read().split()"
   ]
  },
  {
   "cell_type": "code",
   "execution_count": 38,
   "metadata": {
    "collapsed": false
   },
   "outputs": [],
   "source": [
    "inv_rappers_mapping = {v: k for k, v in rappers_mapping.items()}"
   ]
  },
  {
   "cell_type": "code",
   "execution_count": 39,
   "metadata": {
    "collapsed": true
   },
   "outputs": [],
   "source": [
    "def sim(rapper1, rapper2):\n",
    "    return model.docvecs.similarity(inv_rappers_mapping[rapper1], inv_rappers_mapping[rapper2])"
   ]
  },
  {
   "cell_type": "code",
   "execution_count": 40,
   "metadata": {
    "collapsed": false,
    "scrolled": true
   },
   "outputs": [],
   "source": [
    "# sanity check\n",
    "assert(len(popular_rappers) == len(model.docvecs))"
   ]
  },
  {
   "cell_type": "markdown",
   "metadata": {},
   "source": [
    "### Most similar rappers"
   ]
  },
  {
   "cell_type": "code",
   "execution_count": 41,
   "metadata": {
    "collapsed": false,
    "scrolled": true
   },
   "outputs": [
    {
     "name": "stdout",
     "output_type": "stream",
     "text": [
      "Solar Sobota\n",
      "Hary Eripe\n",
      "Sitek Bonson\n",
      "Filipek Reno\n",
      "Flint 2sty\n",
      "Kobra Quebonafide\n",
      "Peja Kajman\n",
      "Eripe Penx\n",
      "Bonson Sitek\n",
      "Penx Beteo\n",
      "Jodsen Diox\n",
      "Wini Sobota\n",
      "Gedz Pelson\n",
      "Diset Kartky\n",
      "Flojd Onar\n",
      "Kartky Diset\n",
      "Neile Jodsen\n",
      "Laikike1 Eripe\n",
      "Jimson Neile\n",
      "Rahim Oxon\n",
      "Kotzi Golin\n",
      "Beteo Penx\n",
      "Rover Diset\n",
      "Buka Quebonafide\n",
      "Dejan Bonson\n",
      "Sobota Peja\n",
      "Gospel Grubson\n",
      "Oxon Grubson\n",
      "Grubson Oxon\n",
      "Kajman Peja\n",
      "Bezczel Quebonafide\n",
      "Sarius Penx\n",
      "Fokus Kajman\n",
      "Paluch Eldo\n",
      "Skorup Rahim\n",
      "Koldi Penx\n",
      "Zeus Kartky\n",
      "Reno Filipek\n",
      "Eldo Diset\n",
      "Borixon Gedz\n",
      "Kubiszew Diox\n",
      "Golin Kotzi\n",
      "Hades Jodsen\n",
      "Diox Jodsen\n",
      "Vixen Bonson\n",
      "Pelson Gedz\n",
      "Abradab Kajman\n",
      "Tede Peja\n",
      "Onar Flojd\n",
      "Lilu Bonson\n",
      "Deys Filipek\n",
      "2sty Flint\n",
      "Liroy Tede\n",
      "Quebonafide Buka\n"
     ]
    }
   ],
   "source": [
    "for i in popular_rappers:\n",
    "    print(i, rappers_mapping[model.docvecs.most_similar(inv_rappers_mapping[i])[0][0]])"
   ]
  },
  {
   "cell_type": "markdown",
   "metadata": {},
   "source": [
    "### Clustering rappers space"
   ]
  },
  {
   "cell_type": "markdown",
   "metadata": {},
   "source": [
    "Using two best algorithms - Affinity propagation and Spectral clustering. Simple techniques like Kmeans would not work, as the distance here is cosine, not euclidian"
   ]
  },
  {
   "cell_type": "code",
   "execution_count": 42,
   "metadata": {
    "collapsed": false
   },
   "outputs": [],
   "source": [
    "from sklearn.cluster import AffinityPropagation\n",
    "from sklearn.cluster import SpectralClustering\n",
    "import numpy as np\n",
    "from sklearn.metrics.pairwise import cosine_similarity"
   ]
  },
  {
   "cell_type": "code",
   "execution_count": 43,
   "metadata": {
    "collapsed": false
   },
   "outputs": [],
   "source": [
    "clst = {}\n",
    "clusters_nums = {}\n",
    "\n",
    "clst[\"aff\"] = AffinityPropagation(max_iter=10000, affinity=\"precomputed\")\n",
    "distances = cosine_similarity(model.docvecs)\n",
    "clusters_nums[\"aff\"] = clst[\"aff\"].fit_predict(distances)\n",
    "\n",
    "clst[\"spec\"] = SpectralClustering(affinity=\"cosine\")\n",
    "clusters_nums[\"spec\"] = clst[\"spec\"].fit_predict(model.docvecs)"
   ]
  },
  {
   "cell_type": "code",
   "execution_count": 47,
   "metadata": {
    "collapsed": false
   },
   "outputs": [],
   "source": [
    "from collections import defaultdict\n",
    "\n",
    "clusters = {}\n",
    "clusters[\"aff\"] = defaultdict(list)\n",
    "clusters[\"spec\"] = defaultdict(list)\n",
    "\n",
    "for e, rapper in enumerate(popular_rappers):\n",
    "    for k in clusters:\n",
    "        clusters[k][clusters_nums[k][e]].append(rapper)\n",
    "\n",
    "clusters[\"aff\"] = dict(clusters[\"aff\"])\n",
    "clusters[\"spec\"] = dict(clusters[\"spec\"])"
   ]
  },
  {
   "cell_type": "markdown",
   "metadata": {},
   "source": [
    "**Clusters from affinity propagation**:"
   ]
  },
  {
   "cell_type": "code",
   "execution_count": 51,
   "metadata": {
    "collapsed": false
   },
   "outputs": [
    {
     "data": {
      "text/plain": [
       "{0: ['Solar', 'Hary', 'Onar', 'Lilu', 'Quebonafide'],\n",
       " 1: ['Filipek',\n",
       "  'Flint',\n",
       "  'Eripe',\n",
       "  'Diset',\n",
       "  'Flojd',\n",
       "  'Rover',\n",
       "  'Sobota',\n",
       "  'Fokus',\n",
       "  'Liroy'],\n",
       " 2: ['Penx',\n",
       "  'Wini',\n",
       "  'Neile',\n",
       "  'Laikike1',\n",
       "  'Kajman',\n",
       "  'Borixon',\n",
       "  'Abradab',\n",
       "  '2sty'],\n",
       " 3: ['Kobra',\n",
       "  'Peja',\n",
       "  'Jodsen',\n",
       "  'Gedz',\n",
       "  'Kartky',\n",
       "  'Kotzi',\n",
       "  'Buka',\n",
       "  'Gospel',\n",
       "  'Oxon',\n",
       "  'Kubiszew',\n",
       "  'Diox',\n",
       "  'Pelson'],\n",
       " 4: ['Rahim', 'Grubson', 'Bezczel', 'Skorup'],\n",
       " 5: ['Sarius'],\n",
       " 6: ['Sitek', 'Jimson', 'Paluch', 'Koldi', 'Zeus', 'Hades', 'Deys'],\n",
       " 7: ['Bonson', 'Beteo', 'Dejan', 'Reno', 'Eldo', 'Golin', 'Vixen', 'Tede']}"
      ]
     },
     "execution_count": 51,
     "metadata": {},
     "output_type": "execute_result"
    }
   ],
   "source": [
    "clusters[\"aff\"]"
   ]
  },
  {
   "cell_type": "markdown",
   "metadata": {},
   "source": [
    "**Clusters from Spectral clustering**:"
   ]
  },
  {
   "cell_type": "code",
   "execution_count": 52,
   "metadata": {
    "collapsed": false
   },
   "outputs": [
    {
     "data": {
      "text/plain": [
       "{0: ['Peja', 'Diset', 'Jimson', 'Bezczel', 'Lilu'],\n",
       " 1: ['Penx', 'Wini', 'Neile', 'Laikike1', 'Oxon', 'Kajman', 'Diox'],\n",
       " 2: ['Eripe', 'Flojd', 'Rover', 'Sobota', 'Sarius', 'Fokus', 'Abradab'],\n",
       " 3: ['Sitek', 'Filipek', 'Flint', 'Kobra', 'Kotzi', 'Beteo'],\n",
       " 4: ['Bonson', 'Dejan', 'Reno', 'Eldo', 'Golin', 'Vixen'],\n",
       " 5: ['Paluch', 'Koldi', 'Zeus', 'Hades', 'Deys', 'Liroy'],\n",
       " 6: ['Solar',\n",
       "  'Hary',\n",
       "  'Rahim',\n",
       "  'Grubson',\n",
       "  'Skorup',\n",
       "  'Borixon',\n",
       "  'Tede',\n",
       "  'Onar',\n",
       "  '2sty',\n",
       "  'Quebonafide'],\n",
       " 7: ['Jodsen', 'Gedz', 'Kartky', 'Buka', 'Gospel', 'Kubiszew', 'Pelson']}"
      ]
     },
     "execution_count": 52,
     "metadata": {},
     "output_type": "execute_result"
    }
   ],
   "source": [
    "clusters[\"spec\"]"
   ]
  },
  {
   "cell_type": "markdown",
   "metadata": {},
   "source": [
    "### Reduce the dimensionality for plotting"
   ]
  },
  {
   "cell_type": "code",
   "execution_count": 192,
   "metadata": {
    "collapsed": true
   },
   "outputs": [],
   "source": [
    "from sklearn.manifold import TSNE\n",
    "tsne_model = TSNE(n_components=2, perplexity=3, random_state=1)"
   ]
  },
  {
   "cell_type": "code",
   "execution_count": 193,
   "metadata": {
    "collapsed": true
   },
   "outputs": [],
   "source": [
    "RAPPER_NUM = len(popular_rappers)"
   ]
  },
  {
   "cell_type": "code",
   "execution_count": 194,
   "metadata": {
    "collapsed": false
   },
   "outputs": [],
   "source": [
    "new_rappers_tsne = tsne_model.fit_transform([a for a in model.docvecs])"
   ]
  },
  {
   "cell_type": "code",
   "execution_count": 205,
   "metadata": {
    "collapsed": false
   },
   "outputs": [],
   "source": [
    "from sklearn.decomposition import PCA \n",
    "pca_model = PCA(n_components=2)\n",
    "new_rappers_pca = pca_model.fit_transform([a for a in model.docvecs])"
   ]
  },
  {
   "cell_type": "markdown",
   "metadata": {},
   "source": [
    "## 3.5 Plotting low-dimensional space"
   ]
  },
  {
   "cell_type": "code",
   "execution_count": 195,
   "metadata": {
    "collapsed": true
   },
   "outputs": [],
   "source": [
    "%matplotlib inline\n",
    "import seaborn as sns\n",
    "import matplotlib.pyplot as plt\n",
    "import pandas as pd"
   ]
  },
  {
   "cell_type": "code",
   "execution_count": 196,
   "metadata": {
    "collapsed": false
   },
   "outputs": [],
   "source": [
    "# pd.DataFrame(new_rappers).plot(kind=\"scatter\", x=1, y=0)"
   ]
  },
  {
   "cell_type": "code",
   "execution_count": 197,
   "metadata": {
    "collapsed": false
   },
   "outputs": [],
   "source": [
    "import numpy as np\n",
    "\n",
    "fig = plt.figure(figsize=(30, 30))\n",
    "ax = fig.add_subplot(1,1,1)\n",
    "marker = itertools.cycle((',', '.', 'o', '*'))\n",
    "print(marker, next(marker))\n",
    "for r in range(RAPPER_NUM):\n",
    "    ax.scatter(new_rappers_tsne[r][0], \n",
    "               new_rappers_tsne[r][1], \n",
    "               color=np.random.rand(3,1), \n",
    "               marker=next(marker), \n",
    "               label=rappers_mapping_tsne[r], \n",
    "               s=400)\n",
    "ax.legend(loc=2, prop={'size':20})\n",
    "plt.show()"
   ]
  },
  {
   "cell_type": "markdown",
   "metadata": {},
   "source": [
    "Unfortunately, it is quite difficult to get labels and points together in matplotlib, so better try it in R's ggplot2"
   ]
  },
  {
   "cell_type": "code",
   "execution_count": 206,
   "metadata": {
    "collapsed": false
   },
   "outputs": [],
   "source": [
    "df = pd.DataFrame([{\"name\": rappers_mapping[e], \"x\": elem[0], \"y\": elem[1]} for e, elem in enumerate(new_rappers_pca)])"
   ]
  },
  {
   "cell_type": "code",
   "execution_count": 207,
   "metadata": {
    "collapsed": true
   },
   "outputs": [],
   "source": [
    "import readline\n",
    "import rpy2.robjects"
   ]
  },
  {
   "cell_type": "code",
   "execution_count": 208,
   "metadata": {
    "collapsed": false,
    "scrolled": true
   },
   "outputs": [
    {
     "name": "stdout",
     "output_type": "stream",
     "text": [
      "The rpy2.ipython extension is already loaded. To reload it, use:\n",
      "  %reload_ext rpy2.ipython\n"
     ]
    }
   ],
   "source": [
    "%load_ext rpy2.ipython"
   ]
  },
  {
   "cell_type": "code",
   "execution_count": 209,
   "metadata": {
    "collapsed": false,
    "scrolled": false
   },
   "outputs": [
    {
     "data": {
      "image/png": "[encoded data removed]"
     },
     "metadata": {},
     "output_type": "display_data"
    }
   ],
   "source": [
    "%%R -i df\n",
    "\n",
    "library(ggplot2)\n",
    "\n",
    "ggplot(data=df, aes(x, y, label=name)) + \n",
    "    geom_point() + \n",
    "    geom_text(data = df, vjust=0)"
   ]
  },
  {
   "cell_type": "code",
   "execution_count": null,
   "metadata": {
    "collapsed": true
   },
   "outputs": [],
   "source": []
  },
  {
   "cell_type": "code",
   "execution_count": null,
   "metadata": {
    "collapsed": true
   },
   "outputs": [],
   "source": []
  }
 ],
 "metadata": {
  "kernelspec": {
   "display_name": "Python [Root]",
   "language": "python",
   "name": "Python [Root]"
  },
  "language_info": {
   "codemirror_mode": {
    "name": "ipython",
    "version": 3
   },
   "file_extension": ".py",
   "mimetype": "text/x-python",
   "name": "python",
   "nbconvert_exporter": "python",
   "pygments_lexer": "ipython3",
   "version": "3.5.2"
  }
 },
 "nbformat": 4,
 "nbformat_minor": 0
}
